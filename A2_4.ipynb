{
 "cells": [
  {
   "cell_type": "code",
   "execution_count": 1,
   "metadata": {},
   "outputs": [],
   "source": [
    "import numpy as np"
   ]
  },
  {
   "cell_type": "code",
   "execution_count": 2,
   "metadata": {},
   "outputs": [],
   "source": [
    "#-ve class\n",
    "mean0_1 = np.genfromtxt(\"hwk2_datasets\\DS2_c2_m1.txt\", delimiter = ',')\n",
    "mean0_1 = mean0_1[np.logical_not(np.isnan(mean0_1))]\n",
    "mean0_2 = np.genfromtxt(\"hwk2_datasets\\DS2_c2_m2.txt\", delimiter = ',')\n",
    "mean0_2 = mean0_2[np.logical_not(np.isnan(mean0_2))]\n",
    "mean0_3 = np.genfromtxt(\"hwk2_datasets\\DS2_c2_m3.txt\", delimiter = ',')\n",
    "mean0_3 = mean0_3[np.logical_not(np.isnan(mean0_3))]"
   ]
  },
  {
   "cell_type": "code",
   "execution_count": 3,
   "metadata": {},
   "outputs": [],
   "source": [
    "#+ve class\n",
    "mean1_1 = np.genfromtxt(\"hwk2_datasets\\DS2_c1_m1.txt\",delimiter = ',')\n",
    "mean1_1 = mean1_1[np.logical_not(np.isnan(mean1_1))]\n",
    "mean1_2 = np.genfromtxt(\"hwk2_datasets\\DS2_c1_m2.txt\",delimiter = ',')\n",
    "mean1_2 = mean1_2[np.logical_not(np.isnan(mean1_2))]\n",
    "mean1_3 = np.genfromtxt(\"hwk2_datasets\\DS2_c1_m3.txt\",delimiter = ',')\n",
    "mean1_3 = mean1_3[np.logical_not(np.isnan(mean1_3))]"
   ]
  },
  {
   "cell_type": "code",
   "execution_count": 4,
   "metadata": {},
   "outputs": [],
   "source": [
    "#Cov matrix\n",
    "cov1 = np.loadtxt(\"hwk2_datasets/DS2_Cov1.txt\",delimiter = ',', usecols= range(20))\n",
    "cov2 = np.loadtxt(\"hwk2_datasets/DS2_Cov2.txt\",delimiter = ',', usecols= range(20))\n",
    "cov3 = np.loadtxt(\"hwk2_datasets/DS2_Cov3.txt\",delimiter = ',', usecols= range(20))"
   ]
  },
  {
   "cell_type": "code",
   "execution_count": 5,
   "metadata": {},
   "outputs": [],
   "source": [
    "prob_mix = [.1,.42,.48]"
   ]
  },
  {
   "cell_type": "code",
   "execution_count": 6,
   "metadata": {},
   "outputs": [],
   "source": [
    "np.random.seed(1) "
   ]
  },
  {
   "cell_type": "code",
   "execution_count": 7,
   "metadata": {},
   "outputs": [],
   "source": [
    "#generate -ve class\n",
    "\n",
    "def gen_class0(): \n",
    "    \n",
    "    multi_rand_gen = 0\n",
    "    choice = np.random.random()\n",
    "    if choice<=prob_mix[0]:    \n",
    "        multi_rand_gen = np.random.multivariate_normal(mean0_1,cov1,1)\n",
    "    elif choice<=prob_mix[0]+prob_mix[1]:\n",
    "        multi_rand_gen = np.random.multivariate_normal(mean0_2,cov2,1)\n",
    "    else:\n",
    "        multi_rand_gen =  np.random.multivariate_normal(mean0_3,cov3,1)\n",
    "    \n",
    "    return multi_rand_gen"
   ]
  },
  {
   "cell_type": "code",
   "execution_count": 8,
   "metadata": {},
   "outputs": [],
   "source": [
    "#generate +ve class  \n",
    "\n",
    "def gen_class1(): \n",
    "    multi_rand_gen = 0\n",
    "    choice = np.random.random()\n",
    "    if choice<=prob_mix[0]:    \n",
    "        multi_rand_gen = np.random.multivariate_normal(mean1_1,cov1,1)\n",
    "    elif choice<=prob_mix[0]+prob_mix[1]:\n",
    "        multi_rand_gen = np.random.multivariate_normal(mean1_2,cov2,1)\n",
    "    else:\n",
    "        multi_rand_gen =  np.random.multivariate_normal(mean1_3,cov3,1)\n",
    "    \n",
    "    return multi_rand_gen"
   ]
  },
  {
   "cell_type": "code",
   "execution_count": 9,
   "metadata": {},
   "outputs": [],
   "source": [
    "class0 = gen_class0()\n",
    "class1 = gen_class1()\n",
    "for i in range(1,2000):\n",
    "    class0 = np.append(class0,gen_class0(),axis=0)\n",
    "    class1 = np.append(class1,gen_class1(),axis=0)"
   ]
  },
  {
   "cell_type": "code",
   "execution_count": 10,
   "metadata": {},
   "outputs": [],
   "source": [
    "train0 = class0[:1200] #Selects the first 1200 elements from class0\n",
    "train1 = class1[:1200] #Selects the first 1200 elements from class1\n",
    "\n",
    "val0 = class0[1200:1600] #Selects the 1201th-1600th elements from class0\n",
    "val1 = class1[1200:1600] #Selects the 1201th-1600th elements from class1\n",
    "\n",
    "test0 = class0[1600:] #selects the last 400 elements from class0\n",
    "test1 = class1[1600:] #selects the last 400 elements from class1\n",
    "\n",
    "train = np.append(train0,train1,axis=0) #appending data with mean0 first then mean m1\n",
    "val = np.append(val0,val1,axis=0)\n",
    "test = np.append(test0,test1, axis=0)"
   ]
  },
  {
   "cell_type": "code",
   "execution_count": 11,
   "metadata": {},
   "outputs": [
    {
     "name": "stdout",
     "output_type": "stream",
     "text": [
      "class0.shape (2000, 20)\n",
      "class1.shape (2000, 20)\n",
      "train0.shape (1200, 20)\n",
      "train1.shape (1200, 20)\n",
      "val0.shape (400, 20)\n",
      "val1.shape (400, 20)\n",
      "test0.shape (400, 20)\n",
      "test1.shape (400, 20)\n",
      "train.shape (2400, 20)\n",
      "val.shape (800, 20)\n",
      "test.shape (800, 20)\n"
     ]
    }
   ],
   "source": [
    "#verifying\n",
    "print(\"class0.shape\",class0.shape)\n",
    "print(\"class1.shape\",class1.shape)\n",
    "print(\"train0.shape\",train0.shape)\n",
    "print(\"train1.shape\",train1.shape)\n",
    "print(\"val0.shape\",val0.shape)\n",
    "print(\"val1.shape\",val1.shape)\n",
    "print(\"test0.shape\",test0.shape)\n",
    "print(\"test1.shape\",test1.shape)\n",
    "print(\"train.shape\",train.shape)\n",
    "print(\"val.shape\",val.shape)\n",
    "print(\"test.shape\",test.shape)"
   ]
  },
  {
   "cell_type": "code",
   "execution_count": 12,
   "metadata": {},
   "outputs": [],
   "source": [
    "#label the data to be positive(1) if they came from the Gaussian with\n",
    "#mean m1 and negative(0) if they came from the Gaussian with mean m0\n",
    "\n",
    "#labels for training set\n",
    "zeros_train = np.zeros((1200,1))\n",
    "ones_train = np.ones((1200,1))\n",
    "train_labels = np.append(zeros_train,ones_train,axis=0)  \n",
    "#labelling the training set\n",
    "train = np.hstack((train, train_labels))\n",
    "\n",
    "#labels for test and validation sets\n",
    "zeros_val_test = np.zeros((400,1))\n",
    "ones_val_test = np.ones((400,1))\n",
    "val_test_labels = np.append(zeros_val_test,ones_val_test,axis=0)\n",
    "\n",
    "#labelling the validation and the test sets\n",
    "val = np.hstack((val, val_test_labels))\n",
    "test = np.hstack((test, val_test_labels))"
   ]
  },
  {
   "cell_type": "code",
   "execution_count": 13,
   "metadata": {},
   "outputs": [],
   "source": [
    "#Shuffling generated data \n",
    "np.random.shuffle(train)\n",
    "np.random.shuffle(val)\n",
    "np.random.shuffle(test)"
   ]
  },
  {
   "cell_type": "code",
   "execution_count": 14,
   "metadata": {},
   "outputs": [
    {
     "name": "stdout",
     "output_type": "stream",
     "text": [
      "train.shape (2400, 21)\n",
      "val.shape (800, 21)\n",
      "test.shape (800, 21)\n"
     ]
    }
   ],
   "source": [
    "#verifying dimensions\n",
    "print(\"train.shape\",train.shape)\n",
    "print(\"val.shape\",val.shape)\n",
    "print(\"test.shape\",test.shape)"
   ]
  },
  {
   "cell_type": "code",
   "execution_count": 15,
   "metadata": {},
   "outputs": [],
   "source": [
    "#saving\n",
    "np.savetxt('DS2train.csv',train,delimiter=',')\n",
    "np.savetxt('DS2val.csv',val,delimiter=',')\n",
    "np.savetxt('DS2test.csv',test,delimiter=',')"
   ]
  }
 ],
 "metadata": {
  "kernelspec": {
   "display_name": "Python 3",
   "language": "python",
   "name": "python3"
  },
  "language_info": {
   "codemirror_mode": {
    "name": "ipython",
    "version": 3
   },
   "file_extension": ".py",
   "mimetype": "text/x-python",
   "name": "python",
   "nbconvert_exporter": "python",
   "pygments_lexer": "ipython3",
   "version": "3.7.0"
  }
 },
 "nbformat": 4,
 "nbformat_minor": 2
}

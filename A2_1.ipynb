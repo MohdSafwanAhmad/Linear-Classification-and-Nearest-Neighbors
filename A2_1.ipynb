{
 "cells": [
  {
   "cell_type": "code",
   "execution_count": 1,
   "metadata": {},
   "outputs": [],
   "source": [
    "import numpy as np\n",
    "\n",
    "mean_0 = np.genfromtxt(\"hwk2_datasets\\DS1_m_0.txt\", delimiter = ',')\n",
    "mean_0 = mean_0[np.logical_not(np.isnan(mean_0))]\n",
    "\n",
    "mean_1 = np.genfromtxt(\"hwk2_datasets\\DS1_m_1.txt\",delimiter = ',')\n",
    "mean_1 = mean_1[np.logical_not(np.isnan(mean_1))]\n",
    "\n",
    "cov = np.genfromtxt(\"hwk2_datasets\\DS1_Cov.txt\",delimiter = ',', usecols = range(20))"
   ]
  },
  {
   "cell_type": "code",
   "execution_count": 2,
   "metadata": {},
   "outputs": [
    {
     "name": "stdout",
     "output_type": "stream",
     "text": [
      "mean_0= [1.3 1.3 1.3 1.3 1.3 1.3 1.3 1.3 1.3 1.3 1.3 1.3 1.3 1.3 1.3 1.3 1.3 1.3\n",
      " 1.3 1.3] mean_1= [2. 2. 2. 2. 2. 2. 2. 2. 2. 2. 2. 2. 2. 2. 2. 2. 2. 2. 2. 2.] cov =  [[7.92747613 5.48849335 6.18812365 5.17766549 5.84803095 6.15325514\n",
      "  4.6623167  5.45500286 4.98574312 5.18758586 3.9436397  5.26132514\n",
      "  7.09637106 5.99810181 6.0932167  5.99518462 5.87317499 5.70538764\n",
      "  5.59907089 5.91786273]\n",
      " [5.48849335 6.81598145 5.34490996 4.31020106 5.41645238 5.53995027\n",
      "  4.30811201 3.93658438 4.11429237 4.98428213 3.34393835 4.59050685\n",
      "  5.85714703 5.07764986 5.41356597 5.19974264 5.60959615 5.09170926\n",
      "  5.31814733 5.27567458]\n",
      " [6.18812365 5.34490996 7.322937   4.87361613 5.78994181 6.60647915\n",
      "  4.61175555 4.83989875 4.86905732 5.05339559 3.26344459 4.68117364\n",
      "  6.36913218 5.17240371 6.107158   5.99640412 6.24914837 4.99487173\n",
      "  4.72323191 5.0810024 ]\n",
      " [5.17766549 4.31020106 4.87361613 5.77060116 5.26312518 4.50414113\n",
      "  3.70666948 4.39831182 3.37569889 4.20589158 2.74695007 4.1714241\n",
      "  5.86605885 4.78774458 4.78672203 5.08695389 4.67678137 4.57195323\n",
      "  3.91537274 5.75972062]\n",
      " [5.84803095 5.41645238 5.78994181 5.26312518 7.01239219 5.39143047\n",
      "  5.00679847 4.38069986 4.64759399 5.11560693 4.07101072 4.99248684\n",
      "  6.2216833  5.83054834 5.95588404 6.17991278 5.89633465 5.15754486\n",
      "  5.35690654 5.72019074]\n",
      " [6.15325514 5.53995027 6.60647915 4.50414113 5.39143047 6.73659871\n",
      "  4.45649259 4.90819445 4.73391895 5.30643771 2.98349649 4.82631716\n",
      "  6.37875695 4.98412722 5.80736823 6.00013022 5.93975039 4.99010068\n",
      "  4.79687342 5.19390579]\n",
      " [4.6623167  4.30811201 4.61175555 3.70666948 5.00679847 4.45649259\n",
      "  5.15327816 3.89248991 3.94043875 4.32608261 2.98887118 4.33684719\n",
      "  4.6987155  4.12621678 4.69532302 5.26589859 4.31675998 3.68245247\n",
      "  4.60214716 3.8718588 ]\n",
      " [5.45500286 3.93658438 4.83989875 4.39831182 4.38069986 4.90819445\n",
      "  3.89248991 6.02421683 3.57582001 4.90028608 2.53175277 4.87397837\n",
      "  6.17340907 5.18646095 4.9062092  6.17541256 4.53542361 4.93591903\n",
      "  4.82770474 4.49208748]\n",
      " [4.98574312 4.11429237 4.86905732 3.37569889 4.64759399 4.73391895\n",
      "  3.94043875 3.57582001 4.93819672 4.622955   3.10824518 4.07317558\n",
      "  5.07802813 4.62466362 4.88140573 5.11636804 5.10593429 4.06190408\n",
      "  4.21466406 4.04194538]\n",
      " [5.18758586 4.98428213 5.05339559 4.20589158 5.11560693 5.30643771\n",
      "  4.32608261 4.90028608 4.622955   7.05196469 3.27078036 4.70649653\n",
      "  6.80870714 5.16872023 4.98485588 5.95197592 4.7432323  5.27218812\n",
      "  4.51770864 5.2901418 ]\n",
      " [3.9436397  3.34393835 3.26344459 2.74695007 4.07101072 2.98349649\n",
      "  2.98887118 2.53175277 3.10824518 3.27078036 3.32925254 2.88538599\n",
      "  3.71248416 3.88910195 3.57770032 3.63856611 3.61658951 3.19715094\n",
      "  3.71649378 3.44846334]\n",
      " [5.26132514 4.59050685 4.68117364 4.1714241  4.99248684 4.82631716\n",
      "  4.33684719 4.87397837 4.07317558 4.70649653 2.88538599 5.26795827\n",
      "  6.00123918 5.00792617 4.81447736 5.56166685 5.04940488 4.88317354\n",
      "  5.02705151 4.48212019]\n",
      " [7.09637106 5.85714703 6.36913218 5.86605885 6.2216833  6.37875695\n",
      "  4.6987155  6.17340907 5.07802813 6.80870714 3.71248416 6.00123918\n",
      "  9.05303755 6.27727968 6.23240739 6.57061448 6.00662195 6.34972468\n",
      "  5.87165804 7.25375353]\n",
      " [5.99810181 5.07764986 5.17240371 4.78774458 5.83054834 4.98412722\n",
      "  4.12621678 5.18646095 4.62466362 5.16872023 3.88910195 5.00792617\n",
      "  6.27727968 6.90345861 5.85117855 6.21468055 5.6886307  5.61334089\n",
      "  5.87982214 5.45148242]\n",
      " [6.0932167  5.41356597 6.107158   4.78672203 5.95588404 5.80736823\n",
      "  4.69532302 4.9062092  4.88140573 4.98485588 3.57770032 4.81447736\n",
      "  6.23240739 5.85117855 6.94254049 7.13848616 5.82374197 5.12770585\n",
      "  5.45990133 5.688824  ]\n",
      " [5.99518462 5.19974264 5.99640412 5.08695389 6.17991278 6.00013022\n",
      "  5.26589859 6.17541256 5.11636804 5.95197592 3.63856611 5.56166685\n",
      "  6.57061448 6.21468055 7.13848616 9.27652805 5.86248831 5.8938436\n",
      "  5.65844133 5.86034762]\n",
      " [5.87317499 5.60959615 6.24914837 4.67678137 5.89633465 5.93975039\n",
      "  4.31675998 4.53542361 5.10593429 4.7432323  3.61658951 5.04940488\n",
      "  6.00662195 5.6886307  5.82374197 5.86248831 6.75920034 5.19311847\n",
      "  5.32663333 4.94557014]\n",
      " [5.70538764 5.09170926 4.99487173 4.57195323 5.15754486 4.99010068\n",
      "  3.68245247 4.93591903 4.06190408 5.27218812 3.19715094 4.88317354\n",
      "  6.34972468 5.61334089 5.12770585 5.8938436  5.19311847 5.96390927\n",
      "  4.84794484 5.12375508]\n",
      " [5.59907089 5.31814733 4.72323191 3.91537274 5.35690654 4.79687342\n",
      "  4.60214716 4.82770474 4.21466406 4.51770864 3.71649378 5.02705151\n",
      "  5.87165804 5.87982214 5.45990133 5.65844133 5.32663333 4.84794484\n",
      "  6.35142867 4.89494004]\n",
      " [5.91786273 5.27567458 5.0810024  5.75972062 5.72019074 5.19390579\n",
      "  3.8718588  4.49208748 4.04194538 5.2901418  3.44846334 4.48212019\n",
      "  7.25375353 5.45148242 5.688824   5.86034762 4.94557014 5.12375508\n",
      "  4.89494004 7.88428428]]\n",
      "mean_0.shape (20,) mean_1.shape (20,) cov.shape (20, 20)\n",
      "mean_0.size 20 mean_1.size 20 cov.size 400\n",
      "type(mean_0) <class 'numpy.ndarray'> type(mean_1) <class 'numpy.ndarray'> type(cov) <class 'numpy.ndarray'>\n"
     ]
    }
   ],
   "source": [
    "print(\"mean_0=\", mean_0, \"mean_1=\", mean_1, \"cov = \", cov)\n",
    "print(\"mean_0.shape\", mean_0.shape, \"mean_1.shape\", mean_1.shape, \"cov.shape\", cov.shape)\n",
    "print(\"mean_0.size\", mean_0.size, \"mean_1.size\", mean_1.size, \"cov.size\", cov.size)\n",
    "print(\"type(mean_0)\", type(mean_0), \"type(mean_1)\",type(mean_1),  \"type(cov)\",type(cov))"
   ]
  },
  {
   "cell_type": "code",
   "execution_count": 3,
   "metadata": {},
   "outputs": [],
   "source": [
    "np.random.seed(1)\n",
    "class0 = np.random.multivariate_normal(mean_0,cov,2000) #Negative class\n",
    "class1 = np.random.multivariate_normal(mean_1,cov,2000) #Positive class\n",
    "\n",
    "train0 = class0[:1200] #Selects the first 1200 elements from class0\n",
    "train1 = class1[:1200] #Selects the first 1200 elements from class1\n",
    "\n",
    "val0 = class0[1200:1600] #Selects the 1201th-1600th elements from class0\n",
    "val1 = class1[1200:1600] #Selects the 1201th-1600th elements from class1\n",
    "\n",
    "test0 = class0[1600:] #selects the last 400 elements from class0\n",
    "test1 = class1[1600:] #selects the last 400 elements from class1\n",
    "\n",
    "train = np.append(train0,train1,axis=0) #appending data with mean0 first then mean m1\n",
    "val = np.append(val0,val1,axis=0)\n",
    "test = np.append(test0,test1, axis=0)"
   ]
  },
  {
   "cell_type": "code",
   "execution_count": 4,
   "metadata": {},
   "outputs": [
    {
     "name": "stdout",
     "output_type": "stream",
     "text": [
      "class0.shape (2000, 20)\n",
      "class1.shape (2000, 20)\n",
      "train0.shape (1200, 20)\n",
      "train1.shape (1200, 20)\n",
      "val0.shape (400, 20)\n",
      "val1.shape (400, 20)\n",
      "test0.shape (400, 20)\n",
      "test1.shape (400, 20)\n",
      "train.shape (2400, 20)\n",
      "val.shape (800, 20)\n",
      "test.shape (800, 20)\n"
     ]
    }
   ],
   "source": [
    "#verifying\n",
    "print(\"class0.shape\",class0.shape)\n",
    "print(\"class1.shape\",class1.shape)\n",
    "print(\"train0.shape\",train0.shape)\n",
    "print(\"train1.shape\",train1.shape)\n",
    "print(\"val0.shape\",val0.shape)\n",
    "print(\"val1.shape\",val1.shape)\n",
    "print(\"test0.shape\",test0.shape)\n",
    "print(\"test1.shape\",test1.shape)\n",
    "print(\"train.shape\",train.shape)\n",
    "print(\"val.shape\",val.shape)\n",
    "print(\"test.shape\",test.shape)"
   ]
  },
  {
   "cell_type": "code",
   "execution_count": 5,
   "metadata": {},
   "outputs": [],
   "source": [
    "#label the data to be positive(1) if they came from the Gaussian with\n",
    "#mean m1 and negative(0) if they came from the Gaussian with mean m0\n",
    "\n",
    "#labels for training set\n",
    "zeros_train = np.zeros((1200,1))\n",
    "ones_train = np.ones((1200,1))\n",
    "train_labels = np.append(zeros_train,ones_train,axis=0)  \n",
    "#labelling the training set\n",
    "train = np.hstack((train, train_labels))\n",
    "\n",
    "#labels for test and validation sets\n",
    "zeros_val_test = np.zeros((400,1))\n",
    "ones_val_test = np.ones((400,1))\n",
    "val_test_labels = np.append(zeros_val_test,ones_val_test,axis=0)\n",
    "\n",
    "#labelling the validation and the test sets\n",
    "val = np.hstack((val, val_test_labels))\n",
    "test = np.hstack((test, val_test_labels))"
   ]
  },
  {
   "cell_type": "code",
   "execution_count": 6,
   "metadata": {},
   "outputs": [],
   "source": [
    "#Shuffling generated data \n",
    "np.random.shuffle(train)\n",
    "np.random.shuffle(val)\n",
    "np.random.shuffle(test)"
   ]
  },
  {
   "cell_type": "code",
   "execution_count": 7,
   "metadata": {},
   "outputs": [
    {
     "name": "stdout",
     "output_type": "stream",
     "text": [
      "train.shape (2400, 21)\n",
      "val.shape (800, 21)\n",
      "test.shape (800, 21)\n"
     ]
    }
   ],
   "source": [
    "#verifying dimensions\n",
    "print(\"train.shape\",train.shape)\n",
    "print(\"val.shape\",val.shape)\n",
    "print(\"test.shape\",test.shape)"
   ]
  },
  {
   "cell_type": "code",
   "execution_count": 8,
   "metadata": {},
   "outputs": [],
   "source": [
    "#saving as DATASET1\n",
    "np.savetxt('DS1train.csv',train,delimiter=',')\n",
    "np.savetxt('DS1val.csv',val,delimiter=',')\n",
    "np.savetxt('DS1test.csv',test,delimiter=',')"
   ]
  }
 ],
 "metadata": {
  "kernelspec": {
   "display_name": "Python 3",
   "language": "python",
   "name": "python3"
  },
  "language_info": {
   "codemirror_mode": {
    "name": "ipython",
    "version": 3
   },
   "file_extension": ".py",
   "mimetype": "text/x-python",
   "name": "python",
   "nbconvert_exporter": "python",
   "pygments_lexer": "ipython3",
   "version": "3.7.0"
  }
 },
 "nbformat": 4,
 "nbformat_minor": 2
}

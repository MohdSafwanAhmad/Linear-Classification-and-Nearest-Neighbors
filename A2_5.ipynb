{
 "cells": [
  {
   "cell_type": "code",
   "execution_count": 1,
   "metadata": {},
   "outputs": [],
   "source": [
    "import math\n",
    "import numpy as np"
   ]
  },
  {
   "cell_type": "code",
   "execution_count": 2,
   "metadata": {},
   "outputs": [
    {
     "name": "stdout",
     "output_type": "stream",
     "text": [
      "len(test) 800\n"
     ]
    }
   ],
   "source": [
    "train = np.loadtxt('DS2train.csv',delimiter = ',')\n",
    "val = np.loadtxt('DS2val.csv',delimiter = ',')\n",
    "test = np.loadtxt('DS2test.csv',delimiter = ',')\n",
    "print(\"len(test)\", len(test))"
   ]
  },
  {
   "cell_type": "markdown",
   "metadata": {},
   "source": [
    "#GDA"
   ]
  },
  {
   "cell_type": "code",
   "execution_count": 3,
   "metadata": {},
   "outputs": [],
   "source": [
    "class0_count = 0\n",
    "class1_count = 0\n",
    "u1 = 0\n",
    "u0 = 0\n",
    "x = 0\n",
    "s0 = 0\n",
    "s1 = 0"
   ]
  },
  {
   "cell_type": "code",
   "execution_count": 4,
   "metadata": {},
   "outputs": [],
   "source": [
    "#Mean and Probs\n",
    "\n",
    "len_train = len(train)\n",
    "for row in train:\n",
    "    if row[-1] == 0:\n",
    "        class0_count += 1\n",
    "        u0 += row[:-1]\n",
    "\n",
    "for row in train:\n",
    "    if row[-1] == 1:\n",
    "        class1_count += 1\n",
    "        u1 += row[:-1]\n",
    "\n",
    "Prob_0 = class0_count/len_train\n",
    "Prob_1 = class1_count/len_train\n",
    "\n",
    "u0 /= class0_count\n",
    "u1 /= class1_count"
   ]
  },
  {
   "cell_type": "code",
   "execution_count": 5,
   "metadata": {},
   "outputs": [],
   "source": [
    "#Covariance matrix\n",
    "\n",
    "for row in train:\n",
    "    if row[-1]==0:\n",
    "        x = np.array(row[:-1])\n",
    "        x -= u0\n",
    "        x = np.reshape(x,(20,1))       \n",
    "        s0 += x.dot(x.T)\n",
    "\n",
    "s0  /= class0_count\n",
    "\n",
    "\n",
    "for row in train:\n",
    "    if row[-1]==1:\n",
    "        x = np.array(row[:-1])\n",
    "        x -= u1\n",
    "        x = np.reshape(x,(20,1))    \n",
    "       \n",
    "        s1 += x.dot(x.T)\n",
    "\n",
    "s1 /= class1_count\n",
    "\n",
    "    \n",
    "cov_mat = Prob_0*s0+Prob_1*s1"
   ]
  },
  {
   "cell_type": "code",
   "execution_count": 6,
   "metadata": {},
   "outputs": [
    {
     "name": "stdout",
     "output_type": "stream",
     "text": [
      "Prob_0 0.5\n",
      "Prob_1 0.5\n",
      "mean for class 0 [1.2041308  1.17971328 1.12557598 1.13664765 1.19837987 1.1738258\n",
      " 1.16164335 1.18582777 1.19632186 1.1697364  1.16279209 1.2539347\n",
      " 1.17506621 1.14821744 1.18675745 1.18718042 1.17210468 1.20681792\n",
      " 1.17941305 1.14182175]\n",
      "mean for class 1 [0.99822882 1.00742219 0.95234028 0.9538514  1.01124007 1.04625583\n",
      " 0.89283352 1.00489783 0.950542   0.93972481 0.95023072 0.9723977\n",
      " 0.94185275 0.93768056 0.96042636 0.95321317 1.00062109 1.02011701\n",
      " 0.93567492 0.9725729 ]\n",
      "cov_mat [[7.90877842 5.4700443  4.651385   5.04634762 4.45064495 5.80515233\n",
      "  5.92663151 5.61982931 4.76280329 5.33260806 5.7014855  5.15769679\n",
      "  5.10698751 6.25721194 5.44648303 5.77935318 5.53322689 5.47641766\n",
      "  5.69956115 6.0482854 ]\n",
      " [5.4700443  7.41773284 4.94931792 5.22484304 5.07962879 6.08559771\n",
      "  6.55506079 5.39323    4.69668615 5.16963768 4.98578811 5.10111108\n",
      "  4.97617224 6.20585889 5.71791783 5.98207124 5.42023995 5.08174077\n",
      "  6.25619273 5.84191833]\n",
      " [4.651385   4.94931792 6.8089906  5.23914551 4.79724052 4.83374824\n",
      "  5.99697751 4.564931   4.60406791 4.81296421 4.83670918 5.05633437\n",
      "  5.04947604 6.03548467 5.3210741  4.9362148  5.45980698 4.42899409\n",
      "  5.87729648 5.8023299 ]\n",
      " [5.04634762 5.22484304 5.23914551 6.4570423  4.27463294 5.5035466\n",
      "  6.1600527  5.24067039 4.73889713 5.35687354 4.91955976 4.83752202\n",
      "  4.93093426 5.53153832 5.24924479 5.30266089 5.26641211 5.028373\n",
      "  5.83450833 5.73860197]\n",
      " [4.45064495 5.07962879 4.79724052 4.27463294 5.71565612 4.76963825\n",
      "  5.13981273 4.49761821 3.73550955 4.16912791 3.86387389 4.23356704\n",
      "  4.33641131 4.97396257 5.23815252 4.97519924 4.50394045 4.55547731\n",
      "  5.39198209 5.06244914]\n",
      " [5.80515233 6.08559771 4.83374824 5.5035466  4.76963825 7.87505751\n",
      "  6.7400963  5.29544849 5.62075455 5.56476717 4.93097908 5.07570428\n",
      "  5.40923789 6.46230943 5.63719801 6.01981953 5.71403466 5.42692369\n",
      "  6.70194604 6.18266038]\n",
      " [5.92663151 6.55506079 5.99697751 6.1600527  5.13981273 6.7400963\n",
      "  8.44195057 5.91340592 5.87094533 6.04483629 5.94616519 5.8802586\n",
      "  5.6298604  6.98347623 5.99787433 6.3199115  6.03879827 5.60139104\n",
      "  7.25826985 6.47423608]\n",
      " [5.61982931 5.39323    4.564931   5.24067039 4.49761821 5.29544849\n",
      "  5.91340592 6.35739749 4.62793368 4.97183671 4.60138604 4.73763977\n",
      "  4.27686847 5.53681057 5.2109722  5.26682143 4.93948005 5.54488571\n",
      "  5.532783   5.53582379]\n",
      " [4.76280329 4.69668615 4.60406791 4.73889713 3.73550955 5.62075455\n",
      "  5.87094533 4.62793368 5.97896745 4.57026139 4.37692683 4.45588622\n",
      "  4.39893683 5.22232473 4.72919534 4.56624226 4.83871152 4.58934741\n",
      "  4.97913299 4.96559237]\n",
      " [5.33260806 5.16963768 4.81296421 5.35687354 4.16912791 5.56476717\n",
      "  6.04483629 4.97183671 4.57026139 6.68794563 4.71931047 4.67696354\n",
      "  4.81765689 5.74625656 5.16187262 5.12382958 5.10186878 4.51324966\n",
      "  6.17198265 5.43914227]\n",
      " [5.7014855  4.98578811 4.83670918 4.91955976 3.86387389 4.93097908\n",
      "  5.94616519 4.60138604 4.37692683 4.71931047 6.31059412 5.24223657\n",
      "  4.74091778 5.29631608 5.1006257  4.84228194 5.00697802 4.61306248\n",
      "  5.78149916 5.51931647]\n",
      " [5.15769679 5.10111108 5.05633437 4.83752202 4.23356704 5.07570428\n",
      "  5.8802586  4.73763977 4.45588622 4.67696354 5.24223657 6.64938296\n",
      "  4.65206073 5.5471937  5.44943809 5.12618247 5.41838195 4.95248369\n",
      "  5.81250082 5.38341567]\n",
      " [5.10698751 4.97617224 5.04947604 4.93093426 4.33641131 5.40923789\n",
      "  5.6298604  4.27686847 4.39893683 4.81765689 4.74091778 4.65206073\n",
      "  6.20583071 5.54536421 5.4887527  5.33718215 5.3420469  4.53529533\n",
      "  5.83136137 5.43473139]\n",
      " [6.25721194 6.20585889 6.03548467 5.53153832 4.97396257 6.46230943\n",
      "  6.98347623 5.53681057 5.22232473 5.74625656 5.29631608 5.5471937\n",
      "  5.54536421 8.19050296 5.94331581 5.9035844  6.36445723 4.76936063\n",
      "  6.47259072 6.37025345]\n",
      " [5.44648303 5.71791783 5.3210741  5.24924479 5.23815252 5.63719801\n",
      "  5.99787433 5.2109722  4.72919534 5.16187262 5.1006257  5.44943809\n",
      "  5.4887527  5.94331581 7.21460717 5.4455489  5.54207901 5.2232487\n",
      "  5.99279284 6.21868723]\n",
      " [5.77935318 5.98207124 4.9362148  5.30266089 4.97519924 6.01981953\n",
      "  6.3199115  5.26682143 4.56624226 5.12382958 4.84228194 5.12618247\n",
      "  5.33718215 5.9035844  5.4455489  6.71461088 5.49573658 5.48737653\n",
      "  6.26678073 5.8317568 ]\n",
      " [5.53322689 5.42023995 5.45980698 5.26641211 4.50394045 5.71403466\n",
      "  6.03879827 4.93948005 4.83871152 5.10186878 5.00697802 5.41838195\n",
      "  5.3420469  6.36445723 5.54207901 5.49573658 6.93436459 4.69262316\n",
      "  5.92770903 6.26434553]\n",
      " [5.47641766 5.08174077 4.42899409 5.028373   4.55547731 5.42692369\n",
      "  5.60139104 5.54488571 4.58934741 4.51324966 4.61306248 4.95248369\n",
      "  4.53529533 4.76936063 5.2232487  5.48737653 4.69262316 6.63936243\n",
      "  5.54392313 5.39988701]\n",
      " [5.69956115 6.25619273 5.87729648 5.83450833 5.39198209 6.70194604\n",
      "  7.25826985 5.532783   4.97913299 6.17198265 5.78149916 5.81250082\n",
      "  5.83136137 6.47259072 5.99279284 6.26678073 5.92770903 5.54392313\n",
      "  8.48375674 6.60122583]\n",
      " [6.0482854  5.84191833 5.8023299  5.73860197 5.06244914 6.18266038\n",
      "  6.47423608 5.53582379 4.96559237 5.43914227 5.51931647 5.38341567\n",
      "  5.43473139 6.37025345 6.21868723 5.8317568  6.26434553 5.39988701\n",
      "  6.60122583 7.96746294]]\n",
      "cov_mat.shape (20, 20)\n"
     ]
    }
   ],
   "source": [
    "print (\"Prob_0\", Prob_0)\n",
    "print (\"Prob_1\", Prob_1)\n",
    "print (\"mean for class 0\", u0)\n",
    "print (\"mean for class 1\", u1)\n",
    "print (\"cov_mat\", cov_mat)\n",
    "print (\"cov_mat.shape\", cov_mat.shape)"
   ]
  },
  {
   "cell_type": "code",
   "execution_count": 7,
   "metadata": {},
   "outputs": [
    {
     "name": "stdout",
     "output_type": "stream",
     "text": [
      "w [-0.00966259 -0.02559834 -0.07705795 -0.00013703  0.03761088 -0.11042393\n",
      "  0.00399542 -0.01742475  0.09723131  0.02207119 -0.00945184  0.05906434\n",
      "  0.04334472  0.03385311 -0.01117373  0.04825551 -0.04702542 -0.0178343\n",
      "  0.02450182  0.01071567]\n",
      "w0 -0.055699759777591396\n"
     ]
    }
   ],
   "source": [
    "#w and w0\n",
    "\n",
    "cov_mat_inv = np.linalg.inv(cov_mat)\n",
    "w = cov_mat_inv.dot(u0-u1)\n",
    "w0 = (-.5*(u0.T).dot(cov_mat_inv).dot(u0))+(.5*(u1.T).dot(cov_mat_inv).dot(u1))+(np.log(Prob_0/Prob_1))\n",
    "print(\"w\",w)\n",
    "print(\"w0\",w0)"
   ]
  },
  {
   "cell_type": "code",
   "execution_count": 8,
   "metadata": {},
   "outputs": [],
   "source": [
    "def sigmoid(x):\n",
    "  return 1 / (1 + math.exp(-x)) \n",
    "\n",
    "def prob_class0(x):\n",
    "    a = w.dot(x)+w0   \n",
    "    return sigmoid(a) \n",
    "\n",
    "def prob_class1(x):\n",
    "    return 1-prob_class0(x)"
   ]
  },
  {
   "cell_type": "code",
   "execution_count": 9,
   "metadata": {},
   "outputs": [],
   "source": [
    "# test accuracy, precision, recall, and F-measure\n",
    "true_pos = 0\n",
    "true_neg = 0\n",
    "false_pos = 0\n",
    "false_neg = 0\n",
    "len_test = len(test)\n",
    "\n",
    "for row in test:\n",
    "    x = np.array(row[:-1])\n",
    "    true_value = row[-1]\n",
    "    prob0 = prob_class0(x)\n",
    "\n",
    "    choice = 0\n",
    "    if prob0<.5:\n",
    "        choice=1\n",
    "        \n",
    "        \n",
    "    if choice == 0:\n",
    "        if true_value == 0: \n",
    "            true_neg += 1 #true -ve\n",
    "        else: \n",
    "            false_neg += 1 #false -ve\n",
    "    else:\n",
    "        if true_value == 0: \n",
    "            false_pos += 1 #false +ve\n",
    "        else: \n",
    "            true_pos += 1 #true +ve\n",
    "    \n",
    "accuracy = (true_neg+true_pos)/len_test\n",
    "precision = true_pos/(true_pos+false_pos) \n",
    "recall = true_pos/(true_pos+false_neg)\n",
    "F_measure = 2*precision*recall/(precision+recall)"
   ]
  },
  {
   "cell_type": "code",
   "execution_count": 10,
   "metadata": {},
   "outputs": [
    {
     "name": "stdout",
     "output_type": "stream",
     "text": [
      "Accuracy = 0.49875\n",
      "Precision 0.4986737400530504\n",
      "Recall = 0.47\n",
      "F Measure = 0.4839124839124839\n"
     ]
    }
   ],
   "source": [
    "print(\"Accuracy =\", accuracy)\n",
    "print(\"Precision\", precision)\n",
    "print(\"Recall =\", recall)\n",
    "print(\"F Measure =\", F_measure)"
   ]
  },
  {
   "cell_type": "markdown",
   "metadata": {},
   "source": [
    "#KNN"
   ]
  },
  {
   "cell_type": "code",
   "execution_count": 11,
   "metadata": {},
   "outputs": [],
   "source": [
    "def classifier(x,k_value): \n",
    "    neighbour = []\n",
    "    avg_val = 0\n",
    "    for i,row in enumerate(train):\n",
    "        point = np.array(row[:-1])\n",
    "        dif = x-point\n",
    "        euc_distance = np.dot(dif,dif)  \n",
    "        if len(neighbour)<k_value:\n",
    "            neighbour.append([euc_distance,i])\n",
    "        else:\n",
    "            neighbour.sort(key=lambda x: x[0])\n",
    "           \n",
    "            if euc_distance<neighbour[k_value-1][0]:\n",
    "                del neighbour[-1]\n",
    "                neighbour.append([euc_distance,i]) \n",
    "                \n",
    "    for n in neighbour:\n",
    "        i = n[1] \n",
    "        val = train[i][-1]\n",
    "        avg_val+=val\n",
    "    \n",
    "    avg_val/=k_value\n",
    "    \n",
    "\n",
    "    if avg_val<.5:\n",
    "        return 0\n",
    "    else:\n",
    "        return 1"
   ]
  },
  {
   "cell_type": "code",
   "execution_count": 12,
   "metadata": {},
   "outputs": [
    {
     "name": "stdout",
     "output_type": "stream",
     "text": [
      "\n",
      "\n",
      "for k value = 1\n",
      "Accuracy = 0.5275\n",
      "Precision = 0.5276381909547738\n",
      "Recall = 0.525\n",
      "F Measure = 0.5263157894736842\n",
      "\n",
      "\n",
      "for k value = 2\n",
      "Accuracy = 0.47625\n",
      "Precision = 0.483704974271012\n",
      "Recall = 0.705\n",
      "F Measure = 0.5737538148524923\n",
      "\n",
      "\n",
      "for k value = 3\n",
      "Accuracy = 0.53125\n",
      "Precision = 0.5318066157760815\n",
      "Recall = 0.5225\n",
      "F Measure = 0.5271122320302648\n",
      "\n",
      "\n",
      "for k value = 4\n",
      "Accuracy = 0.52\n",
      "Precision = 0.5147058823529411\n",
      "Recall = 0.7\n",
      "F Measure = 0.5932203389830508\n",
      "\n",
      "\n",
      "for k value = 5\n",
      "Accuracy = 0.525\n",
      "Precision = 0.5247524752475248\n",
      "Recall = 0.53\n",
      "F Measure = 0.527363184079602\n"
     ]
    }
   ],
   "source": [
    "true_pos = 0\n",
    "true_neg = 0\n",
    "false_pos = 0\n",
    "false_neg = 0\n",
    "len_test = len(test)\n",
    "for k_value in range(1,6):\n",
    "    true_pos = 0\n",
    "    true_neg = 0\n",
    "    false_pos = 0\n",
    "    false_neg = 0\n",
    "    for row in test:\n",
    "        x = np.array(row[:-1])\n",
    "        true_val = row[-1]\n",
    "        choice = classifier(x,k_value)\n",
    "        if choice == 0:\n",
    "            if true_val == 0: \n",
    "                true_neg+=1\n",
    "            else: \n",
    "                false_neg+=1\n",
    "        else:\n",
    "            if true_val == 0: \n",
    "                false_pos+=1\n",
    "            else: \n",
    "                true_pos+=1\n",
    "\n",
    "    accuracy = (true_neg+true_pos)/len_test\n",
    "    precision = true_pos/(true_pos+false_pos)\n",
    "    recall = true_pos/(true_pos+false_neg)\n",
    "    F_measure = 2*precision*recall/(precision+recall)\n",
    "    \n",
    "    \n",
    "    print('\\n')\n",
    "    print(\"for k value =\", k_value)\n",
    "    print(\"Accuracy =\", accuracy)\n",
    "    print(\"Precision =\", precision)\n",
    "    print(\"Recall =\", recall)\n",
    "    print(\"F Measure =\", F_measure)"
   ]
  },
  {
   "cell_type": "code",
   "execution_count": null,
   "metadata": {},
   "outputs": [],
   "source": []
  },
  {
   "cell_type": "code",
   "execution_count": null,
   "metadata": {},
   "outputs": [],
   "source": []
  }
 ],
 "metadata": {
  "kernelspec": {
   "display_name": "Python 3",
   "language": "python",
   "name": "python3"
  },
  "language_info": {
   "codemirror_mode": {
    "name": "ipython",
    "version": 3
   },
   "file_extension": ".py",
   "mimetype": "text/x-python",
   "name": "python",
   "nbconvert_exporter": "python",
   "pygments_lexer": "ipython3",
   "version": "3.7.0"
  }
 },
 "nbformat": 4,
 "nbformat_minor": 2
}
